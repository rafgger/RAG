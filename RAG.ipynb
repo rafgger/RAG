{
 "cells": [
  {
   "cell_type": "code",
   "execution_count": 12,
   "id": "0e40952c",
   "metadata": {},
   "outputs": [
    {
     "name": "stdout",
     "output_type": "stream",
     "text": [
      "Requirement already satisfied: openai in c:\\users\\lenovo\\documents\\coding\\rag\\venv\\lib\\site-packages (1.93.1)\n",
      "Requirement already satisfied: sentence-transformers in c:\\users\\lenovo\\documents\\coding\\rag\\venv\\lib\\site-packages (5.0.0)\n",
      "Requirement already satisfied: faiss-cpu in c:\\users\\lenovo\\documents\\coding\\rag\\venv\\lib\\site-packages (1.11.0)\n",
      "Requirement already satisfied: nltk in c:\\users\\lenovo\\documents\\coding\\rag\\venv\\lib\\site-packages (3.9.1)\n",
      "Requirement already satisfied: tiktoken in c:\\users\\lenovo\\documents\\coding\\rag\\venv\\lib\\site-packages (0.9.0)\n",
      "Requirement already satisfied: python-dotenv in c:\\users\\lenovo\\documents\\coding\\rag\\venv\\lib\\site-packages (1.1.1)\n",
      "Requirement already satisfied: anyio<5,>=3.5.0 in c:\\users\\lenovo\\documents\\coding\\rag\\venv\\lib\\site-packages (from openai) (4.9.0)\n",
      "Requirement already satisfied: distro<2,>=1.7.0 in c:\\users\\lenovo\\documents\\coding\\rag\\venv\\lib\\site-packages (from openai) (1.9.0)\n",
      "Requirement already satisfied: httpx<1,>=0.23.0 in c:\\users\\lenovo\\documents\\coding\\rag\\venv\\lib\\site-packages (from openai) (0.28.1)\n",
      "Requirement already satisfied: jiter<1,>=0.4.0 in c:\\users\\lenovo\\documents\\coding\\rag\\venv\\lib\\site-packages (from openai) (0.10.0)\n",
      "Requirement already satisfied: pydantic<3,>=1.9.0 in c:\\users\\lenovo\\documents\\coding\\rag\\venv\\lib\\site-packages (from openai) (2.11.7)\n",
      "Requirement already satisfied: sniffio in c:\\users\\lenovo\\documents\\coding\\rag\\venv\\lib\\site-packages (from openai) (1.3.1)\n",
      "Requirement already satisfied: tqdm>4 in c:\\users\\lenovo\\documents\\coding\\rag\\venv\\lib\\site-packages (from openai) (4.67.1)\n",
      "Requirement already satisfied: typing-extensions<5,>=4.11 in c:\\users\\lenovo\\documents\\coding\\rag\\venv\\lib\\site-packages (from openai) (4.14.1)\n",
      "Requirement already satisfied: idna>=2.8 in c:\\users\\lenovo\\documents\\coding\\rag\\venv\\lib\\site-packages (from anyio<5,>=3.5.0->openai) (3.10)\n",
      "Requirement already satisfied: certifi in c:\\users\\lenovo\\documents\\coding\\rag\\venv\\lib\\site-packages (from httpx<1,>=0.23.0->openai) (2025.6.15)\n",
      "Requirement already satisfied: httpcore==1.* in c:\\users\\lenovo\\documents\\coding\\rag\\venv\\lib\\site-packages (from httpx<1,>=0.23.0->openai) (1.0.9)\n",
      "Requirement already satisfied: h11>=0.16 in c:\\users\\lenovo\\documents\\coding\\rag\\venv\\lib\\site-packages (from httpcore==1.*->httpx<1,>=0.23.0->openai) (0.16.0)\n",
      "Requirement already satisfied: annotated-types>=0.6.0 in c:\\users\\lenovo\\documents\\coding\\rag\\venv\\lib\\site-packages (from pydantic<3,>=1.9.0->openai) (0.7.0)\n",
      "Requirement already satisfied: pydantic-core==2.33.2 in c:\\users\\lenovo\\documents\\coding\\rag\\venv\\lib\\site-packages (from pydantic<3,>=1.9.0->openai) (2.33.2)\n",
      "Requirement already satisfied: typing-inspection>=0.4.0 in c:\\users\\lenovo\\documents\\coding\\rag\\venv\\lib\\site-packages (from pydantic<3,>=1.9.0->openai) (0.4.1)\n",
      "Requirement already satisfied: transformers<5.0.0,>=4.41.0 in c:\\users\\lenovo\\documents\\coding\\rag\\venv\\lib\\site-packages (from sentence-transformers) (4.53.1)\n",
      "Requirement already satisfied: torch>=1.11.0 in c:\\users\\lenovo\\documents\\coding\\rag\\venv\\lib\\site-packages (from sentence-transformers) (2.7.1)\n",
      "Requirement already satisfied: scikit-learn in c:\\users\\lenovo\\documents\\coding\\rag\\venv\\lib\\site-packages (from sentence-transformers) (1.7.0)\n",
      "Requirement already satisfied: scipy in c:\\users\\lenovo\\documents\\coding\\rag\\venv\\lib\\site-packages (from sentence-transformers) (1.16.0)\n",
      "Requirement already satisfied: huggingface-hub>=0.20.0 in c:\\users\\lenovo\\documents\\coding\\rag\\venv\\lib\\site-packages (from sentence-transformers) (0.33.2)\n",
      "Requirement already satisfied: Pillow in c:\\users\\lenovo\\documents\\coding\\rag\\venv\\lib\\site-packages (from sentence-transformers) (11.3.0)\n",
      "Requirement already satisfied: filelock in c:\\users\\lenovo\\documents\\coding\\rag\\venv\\lib\\site-packages (from transformers<5.0.0,>=4.41.0->sentence-transformers) (3.18.0)\n",
      "Requirement already satisfied: numpy>=1.17 in c:\\users\\lenovo\\documents\\coding\\rag\\venv\\lib\\site-packages (from transformers<5.0.0,>=4.41.0->sentence-transformers) (2.3.1)\n",
      "Requirement already satisfied: packaging>=20.0 in c:\\users\\lenovo\\documents\\coding\\rag\\venv\\lib\\site-packages (from transformers<5.0.0,>=4.41.0->sentence-transformers) (25.0)\n",
      "Requirement already satisfied: pyyaml>=5.1 in c:\\users\\lenovo\\documents\\coding\\rag\\venv\\lib\\site-packages (from transformers<5.0.0,>=4.41.0->sentence-transformers) (6.0.2)\n",
      "Requirement already satisfied: regex!=2019.12.17 in c:\\users\\lenovo\\documents\\coding\\rag\\venv\\lib\\site-packages (from transformers<5.0.0,>=4.41.0->sentence-transformers) (2024.11.6)\n",
      "Requirement already satisfied: requests in c:\\users\\lenovo\\documents\\coding\\rag\\venv\\lib\\site-packages (from transformers<5.0.0,>=4.41.0->sentence-transformers) (2.32.4)\n",
      "Requirement already satisfied: tokenizers<0.22,>=0.21 in c:\\users\\lenovo\\documents\\coding\\rag\\venv\\lib\\site-packages (from transformers<5.0.0,>=4.41.0->sentence-transformers) (0.21.2)\n",
      "Requirement already satisfied: safetensors>=0.4.3 in c:\\users\\lenovo\\documents\\coding\\rag\\venv\\lib\\site-packages (from transformers<5.0.0,>=4.41.0->sentence-transformers) (0.5.3)\n",
      "Requirement already satisfied: fsspec>=2023.5.0 in c:\\users\\lenovo\\documents\\coding\\rag\\venv\\lib\\site-packages (from huggingface-hub>=0.20.0->sentence-transformers) (2025.5.1)\n",
      "Requirement already satisfied: click in c:\\users\\lenovo\\documents\\coding\\rag\\venv\\lib\\site-packages (from nltk) (8.2.1)\n",
      "Requirement already satisfied: joblib in c:\\users\\lenovo\\documents\\coding\\rag\\venv\\lib\\site-packages (from nltk) (1.5.1)\n",
      "Requirement already satisfied: charset_normalizer<4,>=2 in c:\\users\\lenovo\\documents\\coding\\rag\\venv\\lib\\site-packages (from requests->transformers<5.0.0,>=4.41.0->sentence-transformers) (3.4.2)\n",
      "Requirement already satisfied: urllib3<3,>=1.21.1 in c:\\users\\lenovo\\documents\\coding\\rag\\venv\\lib\\site-packages (from requests->transformers<5.0.0,>=4.41.0->sentence-transformers) (2.5.0)\n",
      "Requirement already satisfied: sympy>=1.13.3 in c:\\users\\lenovo\\documents\\coding\\rag\\venv\\lib\\site-packages (from torch>=1.11.0->sentence-transformers) (1.14.0)\n",
      "Requirement already satisfied: networkx in c:\\users\\lenovo\\documents\\coding\\rag\\venv\\lib\\site-packages (from torch>=1.11.0->sentence-transformers) (3.5)\n",
      "Requirement already satisfied: jinja2 in c:\\users\\lenovo\\documents\\coding\\rag\\venv\\lib\\site-packages (from torch>=1.11.0->sentence-transformers) (3.1.6)\n",
      "Requirement already satisfied: setuptools in c:\\users\\lenovo\\documents\\coding\\rag\\venv\\lib\\site-packages (from torch>=1.11.0->sentence-transformers) (80.9.0)\n",
      "Requirement already satisfied: mpmath<1.4,>=1.1.0 in c:\\users\\lenovo\\documents\\coding\\rag\\venv\\lib\\site-packages (from sympy>=1.13.3->torch>=1.11.0->sentence-transformers) (1.3.0)\n",
      "Requirement already satisfied: colorama in c:\\users\\lenovo\\documents\\coding\\rag\\venv\\lib\\site-packages (from tqdm>4->openai) (0.4.6)\n",
      "Requirement already satisfied: MarkupSafe>=2.0 in c:\\users\\lenovo\\documents\\coding\\rag\\venv\\lib\\site-packages (from jinja2->torch>=1.11.0->sentence-transformers) (3.0.2)\n",
      "Requirement already satisfied: threadpoolctl>=3.1.0 in c:\\users\\lenovo\\documents\\coding\\rag\\venv\\lib\\site-packages (from scikit-learn->sentence-transformers) (3.6.0)\n",
      "Note: you may need to restart the kernel to use updated packages.\n"
     ]
    }
   ],
   "source": [
    "pip install openai sentence-transformers faiss-cpu nltk tiktoken python-dotenv"
   ]
  },
  {
   "cell_type": "code",
   "execution_count": 13,
   "id": "928d79d9",
   "metadata": {},
   "outputs": [
    {
     "name": "stderr",
     "output_type": "stream",
     "text": [
      "[nltk_data] Downloading package punkt to\n",
      "[nltk_data]     C:\\Users\\Lenovo\\AppData\\Roaming\\nltk_data...\n",
      "[nltk_data]   Package punkt is already up-to-date!\n",
      "[nltk_data] Downloading package punkt_tab to\n",
      "[nltk_data]     C:\\Users\\Lenovo\\AppData\\Roaming\\nltk_data...\n",
      "[nltk_data]   Package punkt_tab is already up-to-date!\n"
     ]
    }
   ],
   "source": [
    "import openai\n",
    "import faiss\n",
    "import numpy as np\n",
    "import nltk\n",
    "from sentence_transformers import SentenceTransformer\n",
    "import os\n",
    "from dotenv import load_dotenv\n",
    "\n",
    "# Load environment variables from .env file\n",
    "load_dotenv()\n",
    "\n",
    "# Download required NLTK data\n",
    "nltk.download('punkt')\n",
    "nltk.download('punkt_tab')\n",
    "from nltk.tokenize import sent_tokenize\n",
    "\n",
    "# Get API key from environment variable\n",
    "openai.api_key = os.getenv(\"OPENAI_API_KEY\")\n",
    "\n",
    "# Verify API key is loaded\n",
    "if not openai.api_key:\n",
    "    raise ValueError(\"OPENAI_API_KEY not found in environment variables. Please check your .env file.\")\n",
    "\n",
    "# Load embedding model\n",
    "embedder = SentenceTransformer(\"all-MiniLM-L6-v2\")\n",
    "\n",
    "# Example long paragraph\n",
    "long_paragraph = \"\"\"\n",
    "Retrieval-Augmented Generation (RAG) is a method that improves large language models by allowing them to retrieve information from external documents. \n",
    "This reduces hallucinations and makes the answers more fact-based. \n",
    "For example, a RAG system will first look up relevant information and then generate a response using that retrieved context. \n",
    "Confidence scores help indicate how certain the model is about its answer. \n",
    "OpenAI's GPT-4o is the latest generation of their language model, offering fast performance and multi-modal capabilities.\n",
    "\"\"\"\n"
   ]
  },
  {
   "cell_type": "code",
   "execution_count": 14,
   "id": "bfdc6481",
   "metadata": {},
   "outputs": [],
   "source": [
    "# Step 1: Split\n",
    "sentences = sent_tokenize(long_paragraph)\n",
    "\n",
    "# Step 2: Embed\n",
    "sentence_embeddings = embedder.encode(sentences, convert_to_numpy=True)\n",
    "\n",
    "# Step 3: Create FAISS index\n",
    "dimension = sentence_embeddings.shape[1]\n",
    "index = faiss.IndexFlatL2(dimension)\n",
    "index.add(sentence_embeddings)\n"
   ]
  },
  {
   "cell_type": "code",
   "execution_count": 15,
   "id": "1f6a6137",
   "metadata": {},
   "outputs": [],
   "source": [
    "def retrieve_sentences(query, top_k=4):\n",
    "    query_embedding = embedder.encode([query], convert_to_numpy=True)\n",
    "    D, I = index.search(query_embedding, top_k)\n",
    "    return [(sentences[i], float(D[0][rank]), i+1) for rank, i in enumerate(I[0])]\n"
   ]
  },
  {
   "cell_type": "code",
   "execution_count": 19,
   "id": "4c3d0bbe",
   "metadata": {},
   "outputs": [],
   "source": [
    "def format_context(snippets):\n",
    "    return \"\\n\".join([f\"[{i}] {text}\" for text, _, i in snippets])\n",
    "\n",
    "def generate_answer(query):\n",
    "    top_snippets = retrieve_sentences(query)\n",
    "    context = format_context(top_snippets)\n",
    "\n",
    "    prompt = f\"\"\"\n",
    "You are a helpful assistant. Use the following context to answer the question. \n",
    "Cite relevant sentences by their number (e.g., [1], [2]) and do not cite anything not directly used. \n",
    "At the end, output a confidence score between 0 and 1 based on how well the context answers the question.\n",
    "\n",
    "Context:\n",
    "{context}\n",
    "\n",
    "Question: {query}\n",
    "\n",
    "Answer:\"\"\"\n",
    "\n",
    "    # Updated for OpenAI API v1.0+\n",
    "    client = openai.OpenAI(api_key=openai.api_key)\n",
    "    response = client.chat.completions.create(\n",
    "        model=\"gpt-4o\",\n",
    "        messages=[{\"role\": \"user\", \"content\": prompt}],\n",
    "        temperature=0.3\n",
    "    )\n",
    "\n",
    "    return response.choices[0].message.content.strip()\n"
   ]
  },
  {
   "cell_type": "code",
   "execution_count": 20,
   "id": "edb75cf2",
   "metadata": {},
   "outputs": [
    {
     "name": "stdout",
     "output_type": "stream",
     "text": [
      "Retrieval-Augmented Generation (RAG) is a method that improves large language models by allowing them to retrieve information from external documents [1]. It reduces hallucinations by first looking up relevant information and then generating a response using that retrieved context [3]. This approach makes the answers more fact-based [2].\n",
      "\n",
      "Confidence Score: 1\n"
     ]
    }
   ],
   "source": [
    "query = \"What is RAG and how does it reduce hallucinations?\"\n",
    "print(generate_answer(query))\n"
   ]
  },
  {
   "cell_type": "markdown",
   "id": "eb50dc0e",
   "metadata": {},
   "source": [
    "For example, a RAG system will first look up relevant information and then generate a response using that retrieved context. "
   ]
  }
 ],
 "metadata": {
  "kernelspec": {
   "display_name": "venv",
   "language": "python",
   "name": "python3"
  },
  "language_info": {
   "codemirror_mode": {
    "name": "ipython",
    "version": 3
   },
   "file_extension": ".py",
   "mimetype": "text/x-python",
   "name": "python",
   "nbconvert_exporter": "python",
   "pygments_lexer": "ipython3",
   "version": "3.13.0"
  }
 },
 "nbformat": 4,
 "nbformat_minor": 5
}
